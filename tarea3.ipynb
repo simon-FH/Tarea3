{
 "cells": [
  {
   "cell_type": "code",
   "execution_count": 1,
   "metadata": {},
   "outputs": [],
   "source": [
    "def calcular_distancia(punto1, punto2):\n",
    "    A = (punto1[0] - punto2[0])\n",
    "    B = (punto1[1] - punto2[1])\n",
    "    return (A**2 + B**2)**(1/2)"
   ]
  },
  {
   "cell_type": "code",
   "execution_count": 2,
   "metadata": {},
   "outputs": [
    {
     "name": "stdout",
     "output_type": "stream",
     "text": [
      "Distancia:  5.830951894845301\n"
     ]
    }
   ],
   "source": [
    "pto1 = (1,0)\n",
    "pto2 = (4,5)\n",
    "pto3 = (5,7)\n",
    "\n",
    "distancia = calcular_distancia(pto1,pto2)\n",
    "print(\"Distancia: \", distancia)"
   ]
  },
  {
   "attachments": {},
   "cell_type": "markdown",
   "metadata": {},
   "source": [
    "Ya que todas las rutas deben empezar en (0,0), agregué la primera parte de la siguiente función para evitar añadirlo en cada input"
   ]
  },
  {
   "cell_type": "code",
   "execution_count": 3,
   "metadata": {},
   "outputs": [],
   "source": [
    "def calcular_distancia_total(ruta):\n",
    "    distancia_total = 0\n",
    "    for i in range(len(ruta)):\n",
    "        if i == 0:\n",
    "            distancia_total = distancia_total + calcular_distancia((0,0),ruta[i])\n",
    "        else:\n",
    "            distancia_total = distancia_total + calcular_distancia(ruta[i-1],ruta[i])\n",
    "    return distancia_total"
   ]
  },
  {
   "cell_type": "code",
   "execution_count": 9,
   "metadata": {},
   "outputs": [
    {
     "name": "stdout",
     "output_type": "stream",
     "text": [
      "Distancia total:  16.701449963231187\n"
     ]
    }
   ],
   "source": [
    "ruta1 = [pto1,pto2,pto3]\n",
    "distancia_total = calcular_distancia_total(ruta)\n",
    "print(\"Distancia total: \", distancia_total)"
   ]
  },
  {
   "cell_type": "code",
   "execution_count": 10,
   "metadata": {},
   "outputs": [
    {
     "name": "stdout",
     "output_type": "stream",
     "text": [
      "Distancia total:  16.701449963231187\n"
     ]
    }
   ],
   "source": [
    "ruta2 = [pto1,pto3,pto2]\n",
    "distancia_total = calcular_distancia_total(ruta)\n",
    "print(\"Distancia total: \", distancia_total)"
   ]
  },
  {
   "cell_type": "code",
   "execution_count": 11,
   "metadata": {},
   "outputs": [
    {
     "name": "stdout",
     "output_type": "stream",
     "text": [
      "Distancia total:  16.701449963231187\n"
     ]
    }
   ],
   "source": [
    "ruta3 = [pto3,pto2,pto1]\n",
    "distancia_total = calcular_distancia_total(ruta)\n",
    "print(\"Distancia total: \", distancia_total)"
   ]
  },
  {
   "cell_type": "code",
   "execution_count": 12,
   "metadata": {},
   "outputs": [
    {
     "name": "stdout",
     "output_type": "stream",
     "text": [
      "Distancia total:  16.701449963231187\n"
     ]
    }
   ],
   "source": [
    "ruta4 = [pto2,pto3,pto1]\n",
    "distancia_total = calcular_distancia_total(ruta)\n",
    "print(\"Distancia total: \", distancia_total)"
   ]
  },
  {
   "cell_type": "code",
   "execution_count": 8,
   "metadata": {},
   "outputs": [],
   "source": [
    "def optimizacion_ruta(rutas):\n",
    "    distancia_menor = calcular_distancia_total(rutas[0])\n",
    "    ruta_index = 0\n",
    "    for i in range(len(rutas)):\n",
    "        distancia_ruta = calcular_distancia_total(rutas[i])\n",
    "        if distancia_ruta < distancia_menor:\n",
    "            distancia_menor = distancia_ruta\n",
    "            ruta_index = i\n",
    "    return rutas[ruta_index]"
   ]
  },
  {
   "cell_type": "code",
   "execution_count": 14,
   "metadata": {},
   "outputs": [
    {
     "name": "stdout",
     "output_type": "stream",
     "text": [
      "La ruta óptima es:  [(1, 0), (4, 5), (5, 7)]\n"
     ]
    }
   ],
   "source": [
    "rutas = [ruta1,ruta2,ruta3,ruta4]\n",
    "\n",
    "distancia = optimizacion_ruta(rutas)\n",
    "print(\"La ruta óptima es: \", distancia)"
   ]
  },
  {
   "cell_type": "code",
   "execution_count": 41,
   "metadata": {},
   "outputs": [],
   "source": [
    "class Libro():\n",
    "    def __init__(self, titulo, autor):\n",
    "        self.titulo = titulo\n",
    "        self.autor = autor\n",
    "        self.disponibilidad = \"Sí\"\n",
    "    \n",
    "    def obtener_titulo(self):\n",
    "        return self.titulo\n",
    "               \n",
    "    def obtener_autor(self):\n",
    "        return self.autor\n",
    "    \n",
    "    def esta_disponible(self):\n",
    "        if self.disponibilidad == \"Sí\":\n",
    "            return \"Sí\"\n",
    "        else:\n",
    "            return \"No\"\n",
    "\n",
    "    def libro_prestado(self):\n",
    "        if self.esta_disponible() == \"No\":\n",
    "            print(\"El libro '{}' no está disponible\".format(self.obtener_titulo()))\n",
    "        else:\n",
    "            self.disponibilidad = \"No\"\n",
    "            print(\"El libro '{}' de autor '{}' ha sido prestado\".format(self.obtener_titulo(),self.obtener_autor()))\n",
    "\n",
    "    def devolver_libro(self):\n",
    "        if self.esta_disponible() == \"No\":\n",
    "            print(\"El libro '{}' ha sido devuelto\".format(self.obtener_titulo()))\n",
    "            self.disponibilidad = \"Sí\"\n",
    "        else:\n",
    "            print(\"El libro '{}' ya estaba disponible\".format(self.obtener_titulo()))"
   ]
  },
  {
   "cell_type": "code",
   "execution_count": 42,
   "metadata": {},
   "outputs": [
    {
     "name": "stdout",
     "output_type": "stream",
     "text": [
      "Libro 1: Veinte poemas de amor y una canción desesperada de autor Pablo Neruda\n",
      "Disponibilidad: Sí\n",
      "Libro 2: Don Quijote de La Mancha de autor Miguel De Cervantes\n",
      "Disponibilidad: Sí\n"
     ]
    }
   ],
   "source": [
    "libro1 = Libro(\"Veinte poemas de amor y una canción desesperada\", \"Pablo Neruda\")\n",
    "libro2 = Libro(\"Don Quijote de La Mancha\", \"Miguel De Cervantes\")\n",
    "\n",
    "print(\"Libro 1: {} de autor {}\".format(libro1.obtener_titulo(),libro1.obtener_autor()))\n",
    "print(\"Disponibilidad: {}\".format(libro1.esta_disponible()))\n",
    "\n",
    "print(\"Libro 2: {} de autor {}\".format(libro2.obtener_titulo(),libro2.obtener_autor()))\n",
    "print(\"Disponibilidad: {}\".format(libro2.esta_disponible()))"
   ]
  },
  {
   "cell_type": "code",
   "execution_count": 43,
   "metadata": {},
   "outputs": [
    {
     "name": "stdout",
     "output_type": "stream",
     "text": [
      "El libro 'Veinte poemas de amor y una canción desesperada' de autor 'Pablo Neruda' ha sido prestado\n",
      "Libro 1: Veinte poemas de amor y una canción desesperada de autor Pablo Neruda\n",
      "Disponibilidad: No\n"
     ]
    }
   ],
   "source": [
    "libro1.libro_prestado()\n",
    "\n",
    "print(\"Libro 1: {} de autor {}\".format(libro1.obtener_titulo(),libro1.obtener_autor()))\n",
    "print(\"Disponibilidad: {}\".format(libro1.esta_disponible()))"
   ]
  },
  {
   "cell_type": "code",
   "execution_count": 44,
   "metadata": {},
   "outputs": [
    {
     "name": "stdout",
     "output_type": "stream",
     "text": [
      "El libro 'Veinte poemas de amor y una canción desesperada' no está disponible\n",
      "Libro 1: Veinte poemas de amor y una canción desesperada de autor Pablo Neruda\n",
      "Disponibilidad: No\n"
     ]
    }
   ],
   "source": [
    "libro1.libro_prestado()\n",
    "\n",
    "print(\"Libro 1: {} de autor {}\".format(libro1.obtener_titulo(),libro1.obtener_autor()))\n",
    "print(\"Disponibilidad: {}\".format(libro1.disponibilidad))"
   ]
  },
  {
   "cell_type": "code",
   "execution_count": 45,
   "metadata": {},
   "outputs": [
    {
     "name": "stdout",
     "output_type": "stream",
     "text": [
      "El libro 'Veinte poemas de amor y una canción desesperada' ha sido devuelto\n",
      "Libro 1: Veinte poemas de amor y una canción desesperada de autor Pablo Neruda\n",
      "Disponibilidad: Sí\n"
     ]
    }
   ],
   "source": [
    "libro1.devolver_libro()\n",
    "\n",
    "print(\"Libro 1: {} de autor {}\".format(libro1.obtener_titulo(),libro1.obtener_autor()))\n",
    "print(\"Disponibilidad: {}\".format(libro1.disponibilidad))"
   ]
  },
  {
   "cell_type": "code",
   "execution_count": 46,
   "metadata": {},
   "outputs": [
    {
     "name": "stdout",
     "output_type": "stream",
     "text": [
      "El libro 'Don Quijote de La Mancha' ya estaba disponible\n",
      "Libro 2: Don Quijote de La Mancha de autor Miguel De Cervantes\n",
      "Disponibilidad: Sí\n"
     ]
    }
   ],
   "source": [
    "libro2.devolver_libro()\n",
    "\n",
    "print(\"Libro 2: {} de autor {}\".format(libro2.obtener_titulo(),libro2.obtener_autor()))\n",
    "print(\"Disponibilidad: {}\".format(libro2.disponibilidad))"
   ]
  }
 ],
 "metadata": {
  "kernelspec": {
   "display_name": "Python 3",
   "language": "python",
   "name": "python3"
  },
  "language_info": {
   "codemirror_mode": {
    "name": "ipython",
    "version": 3
   },
   "file_extension": ".py",
   "mimetype": "text/x-python",
   "name": "python",
   "nbconvert_exporter": "python",
   "pygments_lexer": "ipython3",
   "version": "3.10.4"
  },
  "orig_nbformat": 4
 },
 "nbformat": 4,
 "nbformat_minor": 2
}
